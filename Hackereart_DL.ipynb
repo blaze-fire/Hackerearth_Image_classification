{
  "nbformat": 4,
  "nbformat_minor": 0,
  "metadata": {
    "colab": {
      "name": "Hackereart_DL.ipynb",
      "provenance": [],
      "collapsed_sections": []
    },
    "kernelspec": {
      "name": "python3",
      "display_name": "Python 3"
    }
  },
  "cells": [
    {
      "cell_type": "code",
      "metadata": {
        "id": "tKviaNr5_YfF"
      },
      "source": [
        "import pandas as pd\r\n",
        "import numpy as np\r\n",
        "import tensorflow as tf\r\n",
        "from tensorflow import keras\r\n",
        "import matplotlib.pyplot as plt"
      ],
      "execution_count": null,
      "outputs": []
    },
    {
      "cell_type": "code",
      "metadata": {
        "colab": {
          "base_uri": "https://localhost:8080/"
        },
        "id": "ZQzHIlyFQ3wm",
        "outputId": "ecd34edf-f5e8-4db9-de77-fb278f52e24b"
      },
      "source": [
        "from google.colab import drive\r\n",
        "drive.mount('/content/gdrive')"
      ],
      "execution_count": null,
      "outputs": [
        {
          "output_type": "stream",
          "text": [
            "Mounted at /content/gdrive\n"
          ],
          "name": "stdout"
        }
      ]
    },
    {
      "cell_type": "markdown",
      "metadata": {
        "id": "9lxKYLC5JfY3"
      },
      "source": [
        "Lets unzip our files"
      ]
    },
    {
      "cell_type": "code",
      "metadata": {
        "id": "S-CDVLddQ3pe"
      },
      "source": [
        "!unzip \"/content/gdrive/My Drive/Colab_Notebooks/hackerearth\" "
      ],
      "execution_count": null,
      "outputs": []
    },
    {
      "cell_type": "code",
      "metadata": {
        "id": "RkzIsi_f_8p8"
      },
      "source": [
        "train = pd.read_csv('./dataset/train.csv')"
      ],
      "execution_count": null,
      "outputs": []
    },
    {
      "cell_type": "code",
      "metadata": {
        "id": "plt0Cl-bCF_4"
      },
      "source": [
        "train['integers'] = train['Image'].map(lambda x: x.replace('image','').replace('.jpg',''))\r\n",
        "train['integers'] = train['integers'].astype('int16')\r\n",
        "train = train.sort_values(by='integers')\r\n",
        "train.drop('integers', axis=1, inplace=True)\r\n",
        "train.index = np.arange(0, len(train))"
      ],
      "execution_count": null,
      "outputs": []
    },
    {
      "cell_type": "code",
      "metadata": {
        "colab": {
          "base_uri": "https://localhost:8080/",
          "height": 195
        },
        "id": "O8AYET3u_oto",
        "outputId": "bc2b30e3-ff6b-466c-8174-bb82a80b1a29"
      },
      "source": [
        "train.head()"
      ],
      "execution_count": null,
      "outputs": [
        {
          "output_type": "execute_result",
          "data": {
            "text/html": [
              "<div>\n",
              "<style scoped>\n",
              "    .dataframe tbody tr th:only-of-type {\n",
              "        vertical-align: middle;\n",
              "    }\n",
              "\n",
              "    .dataframe tbody tr th {\n",
              "        vertical-align: top;\n",
              "    }\n",
              "\n",
              "    .dataframe thead th {\n",
              "        text-align: right;\n",
              "    }\n",
              "</style>\n",
              "<table border=\"1\" class=\"dataframe\">\n",
              "  <thead>\n",
              "    <tr style=\"text-align: right;\">\n",
              "      <th></th>\n",
              "      <th>Image</th>\n",
              "      <th>Class</th>\n",
              "    </tr>\n",
              "  </thead>\n",
              "  <tbody>\n",
              "    <tr>\n",
              "      <th>0</th>\n",
              "      <td>image1.jpg</td>\n",
              "      <td>Christmas_Tree</td>\n",
              "    </tr>\n",
              "    <tr>\n",
              "      <th>1</th>\n",
              "      <td>image2.jpg</td>\n",
              "      <td>Airplane</td>\n",
              "    </tr>\n",
              "    <tr>\n",
              "      <th>2</th>\n",
              "      <td>image3.jpg</td>\n",
              "      <td>Miscellaneous</td>\n",
              "    </tr>\n",
              "    <tr>\n",
              "      <th>3</th>\n",
              "      <td>image4.jpg</td>\n",
              "      <td>Miscellaneous</td>\n",
              "    </tr>\n",
              "    <tr>\n",
              "      <th>4</th>\n",
              "      <td>image5.jpg</td>\n",
              "      <td>Jacket</td>\n",
              "    </tr>\n",
              "  </tbody>\n",
              "</table>\n",
              "</div>"
            ],
            "text/plain": [
              "        Image           Class\n",
              "0  image1.jpg  Christmas_Tree\n",
              "1  image2.jpg        Airplane\n",
              "2  image3.jpg   Miscellaneous\n",
              "3  image4.jpg   Miscellaneous\n",
              "4  image5.jpg          Jacket"
            ]
          },
          "metadata": {
            "tags": []
          },
          "execution_count": 6
        }
      ]
    },
    {
      "cell_type": "markdown",
      "metadata": {
        "id": "Aq1bnLTsK-JJ"
      },
      "source": [
        "Iterating through the test folder to get names of all images for test.csv for submission"
      ]
    },
    {
      "cell_type": "code",
      "metadata": {
        "id": "f-dpb3mt_TrX"
      },
      "source": [
        "import os\r\n",
        "\r\n",
        "path = './dataset/test'\r\n",
        "\r\n",
        "files = []\r\n",
        "for  r, d, f in os.walk(path):\r\n",
        "    for file in f:\r\n",
        "        if '.jpg' in file:\r\n",
        "          files.append(file)\r\n",
        "\r\n",
        "\r\n",
        "test = pd.DataFrame(files, columns=['Image'])"
      ],
      "execution_count": null,
      "outputs": []
    },
    {
      "cell_type": "code",
      "metadata": {
        "colab": {
          "base_uri": "https://localhost:8080/",
          "height": 195
        },
        "id": "koRW1Fj8Cm6i",
        "outputId": "f5db5a1f-d50d-42cd-dee4-511a4bbf50a7"
      },
      "source": [
        "test.head()"
      ],
      "execution_count": null,
      "outputs": [
        {
          "output_type": "execute_result",
          "data": {
            "text/html": [
              "<div>\n",
              "<style scoped>\n",
              "    .dataframe tbody tr th:only-of-type {\n",
              "        vertical-align: middle;\n",
              "    }\n",
              "\n",
              "    .dataframe tbody tr th {\n",
              "        vertical-align: top;\n",
              "    }\n",
              "\n",
              "    .dataframe thead th {\n",
              "        text-align: right;\n",
              "    }\n",
              "</style>\n",
              "<table border=\"1\" class=\"dataframe\">\n",
              "  <thead>\n",
              "    <tr style=\"text-align: right;\">\n",
              "      <th></th>\n",
              "      <th>Image</th>\n",
              "    </tr>\n",
              "  </thead>\n",
              "  <tbody>\n",
              "    <tr>\n",
              "      <th>0</th>\n",
              "      <td>image788.jpg</td>\n",
              "    </tr>\n",
              "    <tr>\n",
              "      <th>1</th>\n",
              "      <td>image1014.jpg</td>\n",
              "    </tr>\n",
              "    <tr>\n",
              "      <th>2</th>\n",
              "      <td>image2499.jpg</td>\n",
              "    </tr>\n",
              "    <tr>\n",
              "      <th>3</th>\n",
              "      <td>image2666.jpg</td>\n",
              "    </tr>\n",
              "    <tr>\n",
              "      <th>4</th>\n",
              "      <td>image8924.jpg</td>\n",
              "    </tr>\n",
              "  </tbody>\n",
              "</table>\n",
              "</div>"
            ],
            "text/plain": [
              "           Image\n",
              "0   image788.jpg\n",
              "1  image1014.jpg\n",
              "2  image2499.jpg\n",
              "3  image2666.jpg\n",
              "4  image8924.jpg"
            ]
          },
          "metadata": {
            "tags": []
          },
          "execution_count": 8
        }
      ]
    },
    {
      "cell_type": "code",
      "metadata": {
        "id": "vkrx-S0ufxz0"
      },
      "source": [
        "train_folder = './dataset/train'\r\n",
        "test_folder = './dataset/test'"
      ],
      "execution_count": null,
      "outputs": []
    },
    {
      "cell_type": "code",
      "metadata": {
        "id": "NaJz3IBGCETe"
      },
      "source": [
        "import matplotlib.image as mpimg \r\n",
        "import matplotlib.pyplot as plt \r\n",
        "\r\n",
        "import os\r\n",
        "\r\n",
        "images=[]\r\n",
        "path = './dataset/train'\r\n",
        "\r\n",
        "files = []\r\n",
        "for  r, d, f in os.walk(path):\r\n",
        "    for file in f:\r\n",
        "        if '.jpg' in file:\r\n",
        "          img = mpimg.imread('./dataset/train/' + file) /255\r\n",
        "          images.append(img)"
      ],
      "execution_count": null,
      "outputs": []
    },
    {
      "cell_type": "code",
      "metadata": {
        "colab": {
          "base_uri": "https://localhost:8080/"
        },
        "id": "j3mpruHjDaoo",
        "outputId": "990c55b2-f0f3-4c24-8c25-73b369d68560"
      },
      "source": [
        "images = np.array(images)"
      ],
      "execution_count": null,
      "outputs": [
        {
          "output_type": "stream",
          "text": [
            "/usr/local/lib/python3.6/dist-packages/ipykernel_launcher.py:1: VisibleDeprecationWarning: Creating an ndarray from ragged nested sequences (which is a list-or-tuple of lists-or-tuples-or ndarrays with different lengths or shapes) is deprecated. If you meant to do this, you must specify 'dtype=object' when creating the ndarray\n",
            "  \"\"\"Entry point for launching an IPython kernel.\n"
          ],
          "name": "stderr"
        }
      ]
    },
    {
      "cell_type": "code",
      "metadata": {
        "colab": {
          "base_uri": "https://localhost:8080/",
          "height": 284
        },
        "id": "DPgHJEPyCEWb",
        "outputId": "b91c3d31-03a4-4bb4-c75b-e8524ae63b59"
      },
      "source": [
        "# Output Images \r\n",
        "plt.imshow(images[1])"
      ],
      "execution_count": null,
      "outputs": [
        {
          "output_type": "execute_result",
          "data": {
            "text/plain": [
              "<matplotlib.image.AxesImage at 0x7f8425b21f60>"
            ]
          },
          "metadata": {
            "tags": []
          },
          "execution_count": 12
        },
        {
          "output_type": "display_data",
          "data": {
            "image/png": "[encoded data removed]",
            "text/plain": [
              "<Figure size 432x288 with 1 Axes>"
            ]
          },
          "metadata": {
            "tags": [],
            "needs_background": "light"
          }
        }
      ]
    },
    {
      "cell_type": "code",
      "metadata": {
        "id": "ZMUq57Fxx_mN"
      },
      "source": [
        "from tensorflow.keras.preprocessing.image import ImageDataGenerator"
      ],
      "execution_count": null,
      "outputs": []
    },
    {
      "cell_type": "code",
      "metadata": {
        "id": "3zYFPz9X5rRt"
      },
      "source": [
        "datagen = ImageDataGenerator(rescale=1/255, validation_split=0.2, rotation_range=45, horizontal_flip=True, vertical_flip=True,\r\n",
        "         shear_range=0.2,  featurewise_center=True, zca_whitening=True)"
      ],
      "execution_count": null,
      "outputs": []
    },
    {
      "cell_type": "code",
      "metadata": {
        "id": "l7nX9OKBMZNS"
      },
      "source": [
        "1/255"
      ],
      "execution_count": null,
      "outputs": []
    },
    {
      "cell_type": "code",
      "metadata": {
        "colab": {
          "base_uri": "https://localhost:8080/"
        },
        "id": "GsL0NpT7FFti",
        "outputId": "c4d8229a-28e6-4b8e-b69a-8895ab011f0e"
      },
      "source": [
        "train_generator=datagen.flow_from_dataframe(\r\n",
        "dataframe=train,\r\n",
        "directory=train_folder,\r\n",
        "x_col=\"Image\",\r\n",
        "y_col=\"Class\",\r\n",
        "subset=\"training\",\r\n",
        "batch_size=32,\r\n",
        "seed=42,\r\n",
        "shuffle=True,\r\n",
        "color_mode='rgb',\r\n",
        "class_mode=\"categorical\",\r\n",
        "target_size=(224,224))\r\n",
        "\r\n",
        "\r\n",
        "valid_generator=datagen.flow_from_dataframe(\r\n",
        "dataframe=train,\r\n",
        "directory=train_folder,\r\n",
        "x_col=\"Image\",\r\n",
        "y_col=\"Class\",\r\n",
        "subset=\"validation\",\r\n",
        "batch_size=32,\r\n",
        "seed=42,\r\n",
        "shuffle=True,\r\n",
        "color_mode='rgb',\r\n",
        "class_mode=\"categorical\",\r\n",
        "target_size=(224,224))\r\n",
        "\r\n",
        "\r\n",
        "test_datagen=ImageDataGenerator(rescale=1./255.)\r\n",
        "test_generator=test_datagen.flow_from_dataframe(\r\n",
        "dataframe=test,\r\n",
        "directory=test_folder,\r\n",
        "x_col=\"Image\",\r\n",
        "y_col=None,\r\n",
        "batch_size=1,\r\n",
        "seed=42,\r\n",
        "shuffle=False,\r\n",
        "class_mode=None,\r\n",
        "target_size=(224,224))"
      ],
      "execution_count": null,
      "outputs": [
        {
          "output_type": "stream",
          "text": [
            "Found 5176 validated image filenames belonging to 6 classes.\n",
            "Found 1293 validated image filenames belonging to 6 classes.\n",
            "Found 3489 validated image filenames.\n"
          ],
          "name": "stdout"
        }
      ]
    },
    {
      "cell_type": "code",
      "metadata": {
        "id": "yanXmknEx0dQ"
      },
      "source": [
        "STEP_SIZE_TRAIN=train_generator.n//train_generator.batch_size\r\n",
        "STEP_SIZE_VALID=valid_generator.n//valid_generator.batch_size\r\n",
        "STEP_SIZE_TEST=test_generator.n//test_generator.batch_size"
      ],
      "execution_count": null,
      "outputs": []
    },
    {
      "cell_type": "markdown",
      "metadata": {
        "id": "RMsSYPUUKOFO"
      },
      "source": [
        "Using transferr learning first we o freeze the weights of the pretrained layers, at least at the beginning of training. "
      ]
    },
    {
      "cell_type": "code",
      "metadata": {
        "id": "Ghv4cigBrSbL"
      },
      "source": [
        "base_model = keras.applications.xception.Xception(weights=\"imagenet\", include_top=False)\r\n",
        "avg = keras.layers.GlobalAveragePooling2D()(base_model.output)\r\n",
        "output = keras.layers.Dense(6, activation=\"softmax\")(avg)\r\n",
        "model = keras.Model(inputs=base_model.input, outputs=output)"
      ],
      "execution_count": null,
      "outputs": []
    },
    {
      "cell_type": "code",
      "metadata": {
        "id": "KY7KHDnUrSfL"
      },
      "source": [
        "for layer in base_model.layers:\r\n",
        "  layer.trainable = False"
      ],
      "execution_count": null,
      "outputs": []
    },
    {
      "cell_type": "code",
      "metadata": {
        "id": "2OUYAtwUqsnC"
      },
      "source": [
        "optimizer = keras.optimizers.SGD(lr=0.1, momentum=0.9, decay=0.01)\r\n",
        "model.compile(loss=\"categorical_crossentropy\", optimizer=optimizer, metrics=[\"accuracy\"])"
      ],
      "execution_count": null,
      "outputs": []
    },
    {
      "cell_type": "code",
      "metadata": {
        "colab": {
          "base_uri": "https://localhost:8080/"
        },
        "id": "RmSk7mKSFYCy",
        "outputId": "5ce682d7-32b5-4e93-c5d6-844a3683a87f"
      },
      "source": [
        "history = model.fit(train_generator,\r\n",
        "                    steps_per_epoch=STEP_SIZE_TRAIN,\r\n",
        "                    validation_data=valid_generator,\r\n",
        "                    validation_steps=STEP_SIZE_VALID,\r\n",
        "                    epochs=5, \r\n",
        "                  )"
      ],
      "execution_count": null,
      "outputs": [
        {
          "output_type": "stream",
          "text": [
            "/usr/local/lib/python3.6/dist-packages/keras_preprocessing/image/image_data_generator.py:720: UserWarning: This ImageDataGenerator specifies `featurewise_center`, but it hasn't been fit on any training data. Fit it first by calling `.fit(numpy_data)`.\n",
            "  warnings.warn('This ImageDataGenerator specifies '\n",
            "/usr/local/lib/python3.6/dist-packages/keras_preprocessing/image/image_data_generator.py:739: UserWarning: This ImageDataGenerator specifies `zca_whitening`, but it hasn't been fit on any training data. Fit it first by calling `.fit(numpy_data)`.\n",
            "  warnings.warn('This ImageDataGenerator specifies '\n"
          ],
          "name": "stderr"
        },
        {
          "output_type": "stream",
          "text": [
            "Epoch 1/5\n",
            "161/161 [==============================] - 76s 461ms/step - loss: 1.4902 - accuracy: 0.5981 - val_loss: 0.9652 - val_accuracy: 0.7445\n",
            "Epoch 2/5\n",
            "161/161 [==============================] - 73s 453ms/step - loss: 0.9734 - accuracy: 0.7328 - val_loss: 0.8311 - val_accuracy: 0.7406\n",
            "Epoch 3/5\n",
            "161/161 [==============================] - 73s 452ms/step - loss: 0.6645 - accuracy: 0.7691 - val_loss: 0.7945 - val_accuracy: 0.7344\n",
            "Epoch 4/5\n",
            "161/161 [==============================] - 73s 452ms/step - loss: 0.5431 - accuracy: 0.8108 - val_loss: 0.7531 - val_accuracy: 0.7500\n",
            "Epoch 5/5\n",
            "161/161 [==============================] - 73s 450ms/step - loss: 0.5663 - accuracy: 0.8027 - val_loss: 0.6606 - val_accuracy: 0.7602\n"
          ],
          "name": "stdout"
        }
      ]
    },
    {
      "cell_type": "code",
      "metadata": {
        "colab": {
          "base_uri": "https://localhost:8080/",
          "height": 324
        },
        "id": "WKneJYxSIzuS",
        "outputId": "9e0bc6ef-8a00-4c87-d48b-9b79588cb395"
      },
      "source": [
        "pd.DataFrame(history.history).plot(figsize=(8,5))\r\n",
        "plt.grid(True)\r\n",
        "plt.gca().set_ylim(0, 1) # set the vertical range to [0-1]\r\n",
        "plt.show()"
      ],
      "execution_count": null,
      "outputs": [
        {
          "output_type": "display_data",
          "data": {
            "image/png": "[encoded data removed]",
            "text/plain": [
              "<Figure size 576x360 with 1 Axes>"
            ]
          },
          "metadata": {
            "tags": [],
            "needs_background": "light"
          }
        }
      ]
    },
    {
      "cell_type": "markdown",
      "metadata": {
        "id": "whmoQU0hKkAS"
      },
      "source": [
        "After training the model for a few epochs, its validation accuracy should reach about 75–80% and stop making much progress. This means that the top layers are now pretty well trained, so we are ready to unfreeze all the layers (or you could try unfreezing just the top ones) and continue training <br>\r\n",
        " This time we use a much\r\n",
        "lower learning rate to avoid damaging the pretrained weights"
      ]
    },
    {
      "cell_type": "code",
      "metadata": {
        "id": "cVAw1TNCXUn4"
      },
      "source": [
        "for layer in base_model.layers:\r\n",
        "  layer.trainable = True\r\n",
        "optimizer = keras.optimizers.SGD(lr=0.01, momentum=0.9, decay=0.001)\r\n",
        "model.compile(loss=\"categorical_crossentropy\", optimizer=optimizer, metrics=[\"accuracy\"])"
      ],
      "execution_count": null,
      "outputs": []
    },
    {
      "cell_type": "code",
      "metadata": {
        "colab": {
          "base_uri": "https://localhost:8080/"
        },
        "id": "vysdMPrFFYFy",
        "outputId": "c5e856ff-6790-4639-e88b-7af5d17c0b98"
      },
      "source": [
        "history = model.fit(train_generator,\r\n",
        "                    steps_per_epoch=STEP_SIZE_TRAIN,\r\n",
        "                    validation_data=valid_generator,\r\n",
        "                    validation_steps=STEP_SIZE_VALID,\r\n",
        "                    epochs=20, callbacks = [keras.callbacks.EarlyStopping(patience=5, restore_best_weights=True)]\r\n",
        "                  )"
      ],
      "execution_count": null,
      "outputs": [
        {
          "output_type": "stream",
          "text": [
            "/usr/local/lib/python3.6/dist-packages/keras_preprocessing/image/image_data_generator.py:720: UserWarning: This ImageDataGenerator specifies `featurewise_center`, but it hasn't been fit on any training data. Fit it first by calling `.fit(numpy_data)`.\n",
            "  warnings.warn('This ImageDataGenerator specifies '\n",
            "/usr/local/lib/python3.6/dist-packages/keras_preprocessing/image/image_data_generator.py:739: UserWarning: This ImageDataGenerator specifies `zca_whitening`, but it hasn't been fit on any training data. Fit it first by calling `.fit(numpy_data)`.\n",
            "  warnings.warn('This ImageDataGenerator specifies '\n"
          ],
          "name": "stderr"
        },
        {
          "output_type": "stream",
          "text": [
            "Epoch 1/20\n",
            "161/161 [==============================] - 126s 756ms/step - loss: 0.7371 - accuracy: 0.7340 - val_loss: 0.6486 - val_accuracy: 0.7898\n",
            "Epoch 2/20\n",
            "161/161 [==============================] - 120s 742ms/step - loss: 0.3519 - accuracy: 0.8738 - val_loss: 0.4859 - val_accuracy: 0.8180\n",
            "Epoch 3/20\n",
            "161/161 [==============================] - 119s 738ms/step - loss: 0.2448 - accuracy: 0.9140 - val_loss: 0.4059 - val_accuracy: 0.8578\n",
            "Epoch 4/20\n",
            "161/161 [==============================] - 119s 736ms/step - loss: 0.2162 - accuracy: 0.9235 - val_loss: 0.4281 - val_accuracy: 0.8570\n",
            "Epoch 5/20\n",
            "161/161 [==============================] - 119s 739ms/step - loss: 0.1732 - accuracy: 0.9384 - val_loss: 0.3918 - val_accuracy: 0.8742\n",
            "Epoch 6/20\n",
            "161/161 [==============================] - 119s 738ms/step - loss: 0.1254 - accuracy: 0.9541 - val_loss: 0.3798 - val_accuracy: 0.8773\n",
            "Epoch 7/20\n",
            "161/161 [==============================] - 120s 741ms/step - loss: 0.1128 - accuracy: 0.9607 - val_loss: 0.4109 - val_accuracy: 0.8719\n",
            "Epoch 8/20\n",
            "161/161 [==============================] - 119s 737ms/step - loss: 0.0880 - accuracy: 0.9708 - val_loss: 0.4331 - val_accuracy: 0.8719\n",
            "Epoch 9/20\n",
            "161/161 [==============================] - 120s 741ms/step - loss: 0.0931 - accuracy: 0.9647 - val_loss: 0.4159 - val_accuracy: 0.8805\n",
            "Epoch 10/20\n",
            "161/161 [==============================] - 119s 741ms/step - loss: 0.0794 - accuracy: 0.9722 - val_loss: 0.4525 - val_accuracy: 0.8703\n",
            "Epoch 11/20\n",
            "161/161 [==============================] - 120s 741ms/step - loss: 0.0722 - accuracy: 0.9746 - val_loss: 0.4557 - val_accuracy: 0.8781\n"
          ],
          "name": "stdout"
        }
      ]
    },
    {
      "cell_type": "code",
      "metadata": {
        "colab": {
          "base_uri": "https://localhost:8080/",
          "height": 324
        },
        "id": "cMt4SG0_FYI7",
        "outputId": "46bbf7dd-d167-4ffe-98b9-e20020ab0c55"
      },
      "source": [
        "pd.DataFrame(history.history).plot(figsize=(8,5))\r\n",
        "plt.grid(True)\r\n",
        "plt.gca().set_ylim(0, 1) # set the vertical range to [0-1]\r\n",
        "plt.show()"
      ],
      "execution_count": null,
      "outputs": [
        {
          "output_type": "display_data",
          "data": {
            "image/png": "[encoded data removed]",
            "text/plain": [
              "<Figure size 576x360 with 1 Axes>"
            ]
          },
          "metadata": {
            "tags": [],
            "needs_background": "light"
          }
        }
      ]
    },
    {
      "cell_type": "code",
      "metadata": {
        "colab": {
          "base_uri": "https://localhost:8080/"
        },
        "id": "3GD4ZOzVwIoJ",
        "outputId": "bc1ddb95-d3dd-49ba-ba19-f0cb995f45b4"
      },
      "source": [
        "model.evaluate(valid_generator, steps=STEP_SIZE_TEST)"
      ],
      "execution_count": null,
      "outputs": [
        {
          "output_type": "stream",
          "text": [
            "  41/3489 [..............................] - ETA: 21:02 - loss: 0.3869 - accuracy: 0.8739WARNING:tensorflow:Your input ran out of data; interrupting training. Make sure that your dataset or generator can generate at least `steps_per_epoch * epochs` batches (in this case, 3489 batches). You may need to use the repeat() function when building your dataset.\n",
            "3489/3489 [==============================] - 15s 4ms/step - loss: 0.3869 - accuracy: 0.8739\n"
          ],
          "name": "stdout"
        },
        {
          "output_type": "execute_result",
          "data": {
            "text/plain": [
              "[0.3869170546531677, 0.8739365935325623]"
            ]
          },
          "metadata": {
            "tags": []
          },
          "execution_count": 33
        }
      ]
    },
    {
      "cell_type": "code",
      "metadata": {
        "id": "bwRgqlptFFod"
      },
      "source": [
        "pred = model.predict(test_generator, steps=STEP_SIZE_TEST)"
      ],
      "execution_count": null,
      "outputs": []
    },
    {
      "cell_type": "code",
      "metadata": {
        "id": "ihHKebj0qmtW"
      },
      "source": [
        "y_classes = pred.argmax(axis=-1)"
      ],
      "execution_count": null,
      "outputs": []
    },
    {
      "cell_type": "markdown",
      "metadata": {
        "id": "znrajGZMJ5_k"
      },
      "source": [
        "To get the class names from numeric label   "
      ]
    },
    {
      "cell_type": "code",
      "metadata": {
        "id": "kEIC8OHpjDAI"
      },
      "source": [
        "label_map = (train_generator.class_indices)"
      ],
      "execution_count": null,
      "outputs": []
    },
    {
      "cell_type": "code",
      "metadata": {
        "id": "M_GT3ARcqmw3"
      },
      "source": [
        "labels = list(label_map.keys())"
      ],
      "execution_count": null,
      "outputs": []
    },
    {
      "cell_type": "code",
      "metadata": {
        "id": "VGGYaEi8uSzA"
      },
      "source": [
        "final_pred = []\r\n",
        "for i in y_classes:\r\n",
        "  final_pred.append(labels[i])"
      ],
      "execution_count": null,
      "outputs": []
    },
    {
      "cell_type": "code",
      "metadata": {
        "id": "iNED6yVRuS4R"
      },
      "source": [
        "final_pred = pd.DataFrame(final_pred, columns=['Class'])"
      ],
      "execution_count": null,
      "outputs": []
    },
    {
      "cell_type": "code",
      "metadata": {
        "id": "b5bOp8B7uS9f"
      },
      "source": [
        "submission = pd.concat([test, final_pred], axis=1)"
      ],
      "execution_count": null,
      "outputs": []
    },
    {
      "cell_type": "code",
      "metadata": {
        "id": "5y9PebSrxD-c"
      },
      "source": [
        "#submission.to_csv('submission.csv', index=False)"
      ],
      "execution_count": null,
      "outputs": []
    },
    {
      "cell_type": "code",
      "metadata": {
        "id": "aYvffKjiFYOf"
      },
      "source": [
        "#model.save('model.h5')"
      ],
      "execution_count": null,
      "outputs": []
    },
    {
      "cell_type": "code",
      "metadata": {
        "id": "rsuaMazzxEGW"
      },
      "source": [
        ""
      ],
      "execution_count": null,
      "outputs": []
    },
    {
      "cell_type": "code",
      "metadata": {
        "id": "XdQdExipiWQb"
      },
      "source": [
        ""
      ],
      "execution_count": null,
      "outputs": []
    }
  ]
}